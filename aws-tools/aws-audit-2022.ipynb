{
 "cells": [
  {
   "cell_type": "code",
   "execution_count": 2,
   "id": "acd57cda",
   "metadata": {},
   "outputs": [],
   "source": [
    "import numpy as np\n",
    "import pandas as pd\n",
    "import matplotlib.pyplot as plt\n",
    "import seaborn as sns\n",
    "import re\n",
    "sns.set_context(\"talk\")\n",
    "%matplotlib inline\n",
    "import collections\n",
    "import csv\n",
    "import datetime\n",
    "import sys"
   ]
  },
  {
   "cell_type": "code",
   "execution_count": 14,
   "id": "b9154ebe",
   "metadata": {},
   "outputs": [],
   "source": [
    "spend_data = pd.read_csv(\"may-billing-2022.csv\")\n",
    "project_data = pd.read_csv(\"projects.csv\")"
   ]
  },
  {
   "cell_type": "code",
   "execution_count": 18,
   "id": "67e8b633",
   "metadata": {},
   "outputs": [],
   "source": [
    "project_spends = pd.DataFrame()\n",
    "project_spends[\"project\"] = project_data[\"NAME\"]\n",
    "\n",
    "spends = list()\n",
    "for p in project_data[\"NAME\"]:\n",
    "\n",
    "    sd = spend_data[spend_data.project == p][\"spend\"]\n",
    "    sd2 = spend_data[spend_data.parent == p][\"spend\"]\n",
    "    spend = sd.sum() + sd2.sum()\n",
    "    spends.append(spend)\n",
    "\n",
    "project_spends[\"spend\"] = spends\n",
    "#print(project_spends)\n",
    "\n",
    "#project_spends.groupby(\"project\")['spend'].sum().sort_values(ascending=False).plot(kind=\"bar\")\n",
    "#plt.savefig(\"spends-by-project.png\", bbox_inches=\"tight\")"
   ]
  },
  {
   "cell_type": "code",
   "execution_count": 19,
   "id": "7c9c2246",
   "metadata": {},
   "outputs": [],
   "source": [
    "#spend_data.groupby('name')['spend'].sum().sort_values(ascending=False).head(50).plot(kind=\"bar\", figsize=(20,10), width=1)\n",
    "#plt.savefig(\"spends-by-user.png\", bbox_inches=\"tight\")"
   ]
  }
 ],
 "metadata": {
  "kernelspec": {
   "display_name": "Python 3",
   "language": "python",
   "name": "python3"
  },
  "language_info": {
   "codemirror_mode": {
    "name": "ipython",
    "version": 3
   },
   "file_extension": ".py",
   "mimetype": "text/x-python",
   "name": "python",
   "nbconvert_exporter": "python",
   "pygments_lexer": "ipython3",
   "version": "3.8.8"
  }
 },
 "nbformat": 4,
 "nbformat_minor": 5
}
